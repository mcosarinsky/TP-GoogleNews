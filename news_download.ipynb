{
 "cells": [
  {
   "cell_type": "markdown",
   "metadata": {},
   "source": [
    "<a target=\"_blank\" href=\"https://colab.research.google.com/github/mcosarinsky/TP-GoogleNews/blob/main/news_download.ipynb\">\n",
    "  <img src=\"https://colab.research.google.com/assets/colab-badge.svg\" alt=\"Open In Colab\"/>\n",
    "</a>"
   ]
  },
  {
   "cell_type": "markdown",
   "metadata": {
    "id": "170QLssWCZ0Q"
   },
   "source": [
    "## Documentación\n",
    "\n",
    " [gnews](https://github.com/ranahaani/GNews/blob/master/README.md)\n",
    "\n",
    "[googlenewsdecoder](https://github.com/SSujitX/google-news-url-decoder)"
   ]
  },
  {
   "cell_type": "code",
   "execution_count": 1,
   "metadata": {
    "colab": {
     "base_uri": "https://localhost:8080/"
    },
    "id": "NOt7loH6fnWx",
    "outputId": "7b7d8876-a2c4-4bf4-cd44-880d6e7b2c15"
   },
   "outputs": [
    {
     "name": "stdout",
     "output_type": "stream",
     "text": [
      "Collecting gnews\n",
      "  Downloading gnews-0.3.8-py3-none-any.whl.metadata (17 kB)\n",
      "Collecting googlenewsdecoder\n",
      "  Downloading googlenewsdecoder-0.1.6-py3-none-any.whl.metadata (5.4 kB)\n",
      "Collecting newspaper3k\n",
      "  Downloading newspaper3k-0.2.8-py3-none-any.whl.metadata (11 kB)\n",
      "Collecting lxml_html_clean\n",
      "  Downloading lxml_html_clean-0.3.1-py3-none-any.whl.metadata (2.4 kB)\n",
      "Collecting feedparser~=6.0.2 (from gnews)\n",
      "  Downloading feedparser-6.0.11-py3-none-any.whl.metadata (2.4 kB)\n",
      "Requirement already satisfied: beautifulsoup4<5,>=4.9.3 in /usr/local/lib/python3.10/dist-packages (from gnews) (4.12.3)\n",
      "Collecting dnspython (from gnews)\n",
      "  Downloading dnspython-2.7.0-py3-none-any.whl.metadata (5.8 kB)\n",
      "Requirement already satisfied: requests in /usr/local/lib/python3.10/dist-packages (from gnews) (2.32.3)\n",
      "Collecting selectolax>=0.3.21 (from googlenewsdecoder)\n",
      "  Downloading selectolax-0.3.25-cp310-cp310-manylinux_2_17_x86_64.manylinux2014_x86_64.whl.metadata (5.9 kB)\n",
      "Requirement already satisfied: Pillow>=3.3.0 in /usr/local/lib/python3.10/dist-packages (from newspaper3k) (10.4.0)\n",
      "Requirement already satisfied: PyYAML>=3.11 in /usr/local/lib/python3.10/dist-packages (from newspaper3k) (6.0.2)\n",
      "Collecting cssselect>=0.9.2 (from newspaper3k)\n",
      "  Downloading cssselect-1.2.0-py2.py3-none-any.whl.metadata (2.2 kB)\n",
      "Requirement already satisfied: lxml>=3.6.0 in /usr/local/lib/python3.10/dist-packages (from newspaper3k) (5.3.0)\n",
      "Requirement already satisfied: nltk>=3.2.1 in /usr/local/lib/python3.10/dist-packages (from newspaper3k) (3.8.1)\n",
      "Collecting tldextract>=2.0.1 (from newspaper3k)\n",
      "  Downloading tldextract-5.1.3-py3-none-any.whl.metadata (11 kB)\n",
      "Collecting feedfinder2>=0.0.4 (from newspaper3k)\n",
      "  Downloading feedfinder2-0.0.4.tar.gz (3.3 kB)\n",
      "  Preparing metadata (setup.py) ... \u001b[?25l\u001b[?25hdone\n",
      "Collecting jieba3k>=0.35.1 (from newspaper3k)\n",
      "  Downloading jieba3k-0.35.1.zip (7.4 MB)\n",
      "\u001b[2K     \u001b[90m━━━━━━━━━━━━━━━━━━━━━━━━━━━━━━━━━━━━━━━━\u001b[0m \u001b[32m7.4/7.4 MB\u001b[0m \u001b[31m40.2 MB/s\u001b[0m eta \u001b[36m0:00:00\u001b[0m\n",
      "\u001b[?25h  Preparing metadata (setup.py) ... \u001b[?25l\u001b[?25hdone\n",
      "Requirement already satisfied: python-dateutil>=2.5.3 in /usr/local/lib/python3.10/dist-packages (from newspaper3k) (2.8.2)\n",
      "Collecting tinysegmenter==0.3 (from newspaper3k)\n",
      "  Downloading tinysegmenter-0.3.tar.gz (16 kB)\n",
      "  Preparing metadata (setup.py) ... \u001b[?25l\u001b[?25hdone\n",
      "Requirement already satisfied: soupsieve>1.2 in /usr/local/lib/python3.10/dist-packages (from beautifulsoup4<5,>=4.9.3->gnews) (2.6)\n",
      "Requirement already satisfied: six in /usr/local/lib/python3.10/dist-packages (from feedfinder2>=0.0.4->newspaper3k) (1.16.0)\n",
      "Collecting sgmllib3k (from feedparser~=6.0.2->gnews)\n",
      "  Downloading sgmllib3k-1.0.0.tar.gz (5.8 kB)\n",
      "  Preparing metadata (setup.py) ... \u001b[?25l\u001b[?25hdone\n",
      "Requirement already satisfied: click in /usr/local/lib/python3.10/dist-packages (from nltk>=3.2.1->newspaper3k) (8.1.7)\n",
      "Requirement already satisfied: joblib in /usr/local/lib/python3.10/dist-packages (from nltk>=3.2.1->newspaper3k) (1.4.2)\n",
      "Requirement already satisfied: regex>=2021.8.3 in /usr/local/lib/python3.10/dist-packages (from nltk>=3.2.1->newspaper3k) (2024.9.11)\n",
      "Requirement already satisfied: tqdm in /usr/local/lib/python3.10/dist-packages (from nltk>=3.2.1->newspaper3k) (4.66.6)\n",
      "Requirement already satisfied: charset-normalizer<4,>=2 in /usr/local/lib/python3.10/dist-packages (from requests->gnews) (3.4.0)\n",
      "Requirement already satisfied: idna<4,>=2.5 in /usr/local/lib/python3.10/dist-packages (from requests->gnews) (3.10)\n",
      "Requirement already satisfied: urllib3<3,>=1.21.1 in /usr/local/lib/python3.10/dist-packages (from requests->gnews) (2.2.3)\n",
      "Requirement already satisfied: certifi>=2017.4.17 in /usr/local/lib/python3.10/dist-packages (from requests->gnews) (2024.8.30)\n",
      "Collecting requests-file>=1.4 (from tldextract>=2.0.1->newspaper3k)\n",
      "  Downloading requests_file-2.1.0-py2.py3-none-any.whl.metadata (1.7 kB)\n",
      "Requirement already satisfied: filelock>=3.0.8 in /usr/local/lib/python3.10/dist-packages (from tldextract>=2.0.1->newspaper3k) (3.16.1)\n",
      "Downloading gnews-0.3.8-py3-none-any.whl (15 kB)\n",
      "Downloading googlenewsdecoder-0.1.6-py3-none-any.whl (12 kB)\n",
      "Downloading newspaper3k-0.2.8-py3-none-any.whl (211 kB)\n",
      "\u001b[2K   \u001b[90m━━━━━━━━━━━━━━━━━━━━━━━━━━━━━━━━━━━━━━━━\u001b[0m \u001b[32m211.1/211.1 kB\u001b[0m \u001b[31m12.8 MB/s\u001b[0m eta \u001b[36m0:00:00\u001b[0m\n",
      "\u001b[?25hDownloading lxml_html_clean-0.3.1-py3-none-any.whl (13 kB)\n",
      "Downloading cssselect-1.2.0-py2.py3-none-any.whl (18 kB)\n",
      "Downloading feedparser-6.0.11-py3-none-any.whl (81 kB)\n",
      "\u001b[2K   \u001b[90m━━━━━━━━━━━━━━━━━━━━━━━━━━━━━━━━━━━━━━━━\u001b[0m \u001b[32m81.3/81.3 kB\u001b[0m \u001b[31m4.9 MB/s\u001b[0m eta \u001b[36m0:00:00\u001b[0m\n",
      "\u001b[?25hDownloading selectolax-0.3.25-cp310-cp310-manylinux_2_17_x86_64.manylinux2014_x86_64.whl (7.3 MB)\n",
      "\u001b[2K   \u001b[90m━━━━━━━━━━━━━━━━━━━━━━━━━━━━━━━━━━━━━━━━\u001b[0m \u001b[32m7.3/7.3 MB\u001b[0m \u001b[31m63.7 MB/s\u001b[0m eta \u001b[36m0:00:00\u001b[0m\n",
      "\u001b[?25hDownloading tldextract-5.1.3-py3-none-any.whl (104 kB)\n",
      "\u001b[2K   \u001b[90m━━━━━━━━━━━━━━━━━━━━━━━━━━━━━━━━━━━━━━━━\u001b[0m \u001b[32m104.9/104.9 kB\u001b[0m \u001b[31m7.1 MB/s\u001b[0m eta \u001b[36m0:00:00\u001b[0m\n",
      "\u001b[?25hDownloading dnspython-2.7.0-py3-none-any.whl (313 kB)\n",
      "\u001b[2K   \u001b[90m━━━━━━━━━━━━━━━━━━━━━━━━━━━━━━━━━━━━━━━━\u001b[0m \u001b[32m313.6/313.6 kB\u001b[0m \u001b[31m16.8 MB/s\u001b[0m eta \u001b[36m0:00:00\u001b[0m\n",
      "\u001b[?25hDownloading requests_file-2.1.0-py2.py3-none-any.whl (4.2 kB)\n",
      "Building wheels for collected packages: tinysegmenter, feedfinder2, jieba3k, sgmllib3k\n",
      "  Building wheel for tinysegmenter (setup.py) ... \u001b[?25l\u001b[?25hdone\n",
      "  Created wheel for tinysegmenter: filename=tinysegmenter-0.3-py3-none-any.whl size=13539 sha256=a796ef69d8002f1655e84f3d679c2681b22d69615299357cb3ce63716b221c06\n",
      "  Stored in directory: /root/.cache/pip/wheels/c8/d6/6c/384f58df48c00b9a31d638005143b5b3ac62c3d25fb1447f23\n",
      "  Building wheel for feedfinder2 (setup.py) ... \u001b[?25l\u001b[?25hdone\n",
      "  Created wheel for feedfinder2: filename=feedfinder2-0.0.4-py3-none-any.whl size=3342 sha256=8778250b4011d584c31127164109a8e7681ecce9dd1365526e224e40c3dc87e7\n",
      "  Stored in directory: /root/.cache/pip/wheels/97/02/e7/a1ff1760e12bdbaab0ac824fae5c1bc933e41c4ccd6a8f8edb\n",
      "  Building wheel for jieba3k (setup.py) ... \u001b[?25l\u001b[?25hdone\n",
      "  Created wheel for jieba3k: filename=jieba3k-0.35.1-py3-none-any.whl size=7398379 sha256=a225904c72c68a235315574a537b24c9b70ed8ccbe8b706059f023856649a7a0\n",
      "  Stored in directory: /root/.cache/pip/wheels/7a/c4/0c/12a9a314ecac499456c4c3b2fcc2f635a3b45a39dfbd240299\n",
      "  Building wheel for sgmllib3k (setup.py) ... \u001b[?25l\u001b[?25hdone\n",
      "  Created wheel for sgmllib3k: filename=sgmllib3k-1.0.0-py3-none-any.whl size=6047 sha256=1de531f54db480af98f5381a5bb17fd7b2bbe3c4ade3a9a98789fcec378d2083\n",
      "  Stored in directory: /root/.cache/pip/wheels/f0/69/93/a47e9d621be168e9e33c7ce60524393c0b92ae83cf6c6e89c5\n",
      "Successfully built tinysegmenter feedfinder2 jieba3k sgmllib3k\n",
      "Installing collected packages: tinysegmenter, sgmllib3k, selectolax, jieba3k, lxml_html_clean, feedparser, dnspython, cssselect, requests-file, googlenewsdecoder, gnews, feedfinder2, tldextract, newspaper3k\n",
      "Successfully installed cssselect-1.2.0 dnspython-2.7.0 feedfinder2-0.0.4 feedparser-6.0.11 gnews-0.3.8 googlenewsdecoder-0.1.6 jieba3k-0.35.1 lxml_html_clean-0.3.1 newspaper3k-0.2.8 requests-file-2.1.0 selectolax-0.3.25 sgmllib3k-1.0.0 tinysegmenter-0.3 tldextract-5.1.3\n"
     ]
    }
   ],
   "source": [
    "!pip install gnews googlenewsdecoder newspaper3k lxml_html_clean tqdm"
   ]
  },
  {
   "cell_type": "code",
   "execution_count": 49,
   "metadata": {
    "id": "5o-Hgz3z5icB"
   },
   "outputs": [],
   "source": [
    "import requests\n",
    "import datetime\n",
    "\n",
    "from dateutil.relativedelta import relativedelta\n",
    "from gnews import GNews\n",
    "from googlenewsdecoder import new_decoderv1\n",
    "from bs4 import BeautifulSoup\n",
    "from tqdm import tqdm\n",
    "\n",
    "\n",
    "class News:\n",
    "    def __init__(self, start_date: datetime.date, end_date: datetime.date):\n",
    "        self.start_date = start_date\n",
    "        self.end_date = end_date\n",
    "        self.google_news = GNews(language='es', country='Argentina', start_date=start_date, end_date=end_date)\n",
    "\n",
    "    def get_google_news(self, site):\n",
    "        \"\"\"Fetch news articles for the specified site and date range.\"\"\"\n",
    "        results = self.google_news.get_news_by_site(site)\n",
    "        return results\n",
    "\n",
    "    def update_google_news_dates(self, start_date, end_date):\n",
    "        \"\"\"Updates the google_news object with new start_date and end_date.\"\"\"\n",
    "        self.google_news.start_date = start_date\n",
    "        self.google_news.end_date = end_date\n",
    "\n",
    "    def get_article_content(self, article, time_interval=5):\n",
    "        url = article['url']\n",
    "        try:\n",
    "            # Decode the Google News URL\n",
    "            decoded_data = new_decoderv1(url, interval=time_interval)\n",
    "            if decoded_data.get(\"status\"):\n",
    "                decoded_url = decoded_data[\"decoded_url\"]\n",
    "                response = requests.get(decoded_url)\n",
    "\n",
    "                # Check if the request was successful\n",
    "                if response.status_code == 200:\n",
    "                    # Parse the HTML content\n",
    "                    soup = BeautifulSoup(response.text, 'html.parser')\n",
    "\n",
    "                    # Extract the description\n",
    "                    description_tag = soup.find('meta', property='og:description')\n",
    "                    description = description_tag.get('content') if description_tag else \"Description not found.\"\n",
    "\n",
    "                    # Extract article text\n",
    "                    text = self.google_news.get_full_article(decoded_url).text\n",
    "\n",
    "                    # Update article dictionary with description, text and url\n",
    "                    article['url'] = decoded_url\n",
    "                    article['description'] = description\n",
    "                    article['text'] = text\n",
    "                    return article\n",
    "                else:\n",
    "                    return {\"error\": f\"Failed to retrieve the article from the decoded URL. Status code: {response.status_code}\"}\n",
    "            else:\n",
    "                return {\"error\": f\"Error decoding URL: {decoded_data['message']}\"}\n",
    "        except Exception as e:\n",
    "            return {\"error\": str(e)}\n",
    "\n",
    "    def fetch_articles(self, sites, time_interval=1):\n",
    "        all_articles = []\n",
    "\n",
    "        for site in sites:\n",
    "            # Extract the domain or section name\n",
    "            site_name = site.split('.com')[0].split('/')[-1]\n",
    "            articles = self.get_google_news(site)\n",
    "\n",
    "            for i in tqdm(range(len(articles)), desc=f\"Processing articles from {site}\"):\n",
    "                article_content = self.get_article_content(articles[i], time_interval=time_interval)\n",
    "                article_content['site'] = site_name\n",
    "                all_articles.append(article_content)\n",
    "\n",
    "        return all_articles"
   ]
  },
  {
   "cell_type": "markdown",
   "metadata": {},
   "source": [
    "## Descarga datos"
   ]
  },
  {
   "cell_type": "code",
   "execution_count": 18,
   "metadata": {
    "colab": {
     "base_uri": "https://localhost:8080/"
    },
    "id": "C6junF206BSl",
    "outputId": "193c54aa-102e-438e-e0fd-8e78651551af"
   },
   "outputs": [
    {
     "name": "stdout",
     "output_type": "stream",
     "text": [
      "Articles fetched\n",
      "Extracting content\n",
      "{'title': 'La inflación del Indec cerró en 23,9 por ciento en 2014 - LA NACION', 'description': 'El instituto de estadísticas oficial informó el aumento promedio de precios de la economía del año que pasó; las consultoras privadas habían calculado un 38,5 por ciento', 'published date': 'Fri, 16 Jan 2015 08:00:00 GMT', 'url': 'https://www.lanacion.com.ar/economia/la-inflacion-del-indec-cerro-en-239-por-ciento-en-2014-nid1760688/', 'publisher': {'href': 'https://www.lanacion.com.ar', 'title': 'LA NACION'}, 'text': 'La inflación oficial de 2014 fue de 23,9 por ciento, según informó hoy el Instituto Nacional de Estadística y Censos ( INDEC ). La evaluación anual del organismo resultó 14,6 puntos inferior al 38,5 por ciento estimado por las consultoras privadas.\\n\\nEn lo que respecta a diciembre, la medición del INDEC alcanzó el 1 por ciento frente al 1,87 por ciento del sector privado.\\n\\nLa diferencia entre ambas mediciones resulta relevante si se tiene en cuenta que las paritarias de 2014 cerraron en torno al 30 por ciento. En consecuencia, según la inflación oficial los trabajadores habrían mejorado su poder adquisitivo durante a lo largo del año pasado, mientras que respecto del cálculo privado habrían cedido varios puntos.\\n\\nNo obstante, la inflación de 2014 resultó la más alta de toda la administración kirchnerista, superada por el 40,9 por ciento que se produjo en 2002 tras la ruptura de la convertibilidad.\\n\\nSiempre de acuerdo con la información oficial, la tasa de inflación se desaceleró en el último semestre del año, luego de un suba pronunciada en la primera parte tras la devaluación de enero de 2014.\\n\\nAsí en enero el incremento de precios fue de 3,7 por ciento, para ubicarse en 3,4 por ciento en febrero, 2.6 por ciento en marzo, 1,8 por ciento en abril, 1,4 por ciento en mayo y 1,3 por ciento en junio.\\n\\nLa desaceleración de la inflación coincide a su vez con un período de caída en el nivel de actividad económica, incluso para la medición oficial del INDEC.\\n\\nCabe recordar que durante 2014 el Gobierno implementó el programa \"Precios Cuidados \" y debido a que el INDEC dejó de publicar la lista de precios base de los productos que encuesta no se puede estimar la influencia de ese plan en el cálculo oficial.\\n\\nPor su parte, los precios mayoristas subieron a lo largo de 2014 un 28,3 por ciento, luego de que en diciembre la suba fue de 1 por ciento.\\n\\nEl INDEC también informó que el costo de la construcción se elevó 32,9 por ciento en 2014 y 0,5 por ciento en diciembre.\\n\\nDyN'}\n"
     ]
    }
   ],
   "source": [
    "start = datetime.date(2015, 1, 15)\n",
    "end = datetime.date(2015, 1, 17)\n",
    "\n",
    "# Create an instance of News\n",
    "news_fetcher = News(start_date=start, end_date=end)\n",
    "\n",
    "# Fetch Google News articles\n",
    "articles = news_fetcher.get_google_news(site='lanacion.com.ar/economia')\n",
    "print(\"Articles fetched\")\n",
    "print(\"Extracting content\")\n",
    "article_content = news_fetcher.get_article_content(articles[1], time_interval=1)\n",
    "\n",
    "print(article_content)"
   ]
  },
  {
   "cell_type": "code",
   "execution_count": 56,
   "metadata": {
    "colab": {
     "base_uri": "https://localhost:8080/"
    },
    "id": "ZvA-QnYMXMvO",
    "outputId": "484bbd73-c960-4c6a-9255-b9eb79af9a1d"
   },
   "outputs": [
    {
     "name": "stdout",
     "output_type": "stream",
     "text": [
      "Fetching articles starting at 01 January 2022\n",
      "\n"
     ]
    },
    {
     "name": "stderr",
     "output_type": "stream",
     "text": [
      "Processing articles from lanacion.com.ar/economia: 100%|██████████| 93/93 [03:46<00:00,  2.44s/it]\n",
      "Processing articles from lanacion.com.ar/politica/: 100%|██████████| 51/51 [01:36<00:00,  1.90s/it]\n",
      "Processing articles from perfil.com/seccion/economia: 0it [00:00, ?it/s]\n",
      "Processing articles from perfil.com/seccion/politica: 0it [00:00, ?it/s]\n",
      "Processing articles from clarin.com/economia: 100%|██████████| 35/35 [01:06<00:00,  1.90s/it]\n",
      "Processing articles from clarin.com/politica: 100%|██████████| 41/41 [01:18<00:00,  1.91s/it]\n"
     ]
    },
    {
     "name": "stdout",
     "output_type": "stream",
     "text": [
      "\n",
      "\n",
      "Fetching articles starting at 17 January 2022\n",
      "\n"
     ]
    },
    {
     "name": "stderr",
     "output_type": "stream",
     "text": [
      "Processing articles from lanacion.com.ar/economia: 100%|██████████| 96/96 [03:03<00:00,  1.91s/it]\n",
      "Processing articles from lanacion.com.ar/politica/: 100%|██████████| 63/63 [01:58<00:00,  1.88s/it]\n",
      "Processing articles from perfil.com/seccion/economia: 0it [00:00, ?it/s]\n",
      "Processing articles from perfil.com/seccion/politica: 0it [00:00, ?it/s]\n",
      "Processing articles from clarin.com/economia: 100%|██████████| 44/44 [01:23<00:00,  1.90s/it]\n",
      "Processing articles from clarin.com/politica: 100%|██████████| 45/45 [01:26<00:00,  1.91s/it]\n"
     ]
    },
    {
     "name": "stdout",
     "output_type": "stream",
     "text": [
      "\n",
      "\n",
      "Fetching articles starting at 02 February 2022\n",
      "\n"
     ]
    },
    {
     "name": "stderr",
     "output_type": "stream",
     "text": [
      "Processing articles from lanacion.com.ar/economia: 100%|██████████| 90/90 [02:49<00:00,  1.89s/it]\n",
      "Processing articles from lanacion.com.ar/politica/: 100%|██████████| 75/75 [02:20<00:00,  1.87s/it]\n",
      "Processing articles from perfil.com/seccion/economia: 0it [00:00, ?it/s]\n",
      "Processing articles from perfil.com/seccion/politica: 0it [00:00, ?it/s]\n",
      "Processing articles from clarin.com/economia: 100%|██████████| 37/37 [01:10<00:00,  1.90s/it]\n",
      "Processing articles from clarin.com/politica: 100%|██████████| 75/75 [02:21<00:00,  1.89s/it]\n"
     ]
    },
    {
     "name": "stdout",
     "output_type": "stream",
     "text": [
      "\n",
      "\n",
      "Fetching articles starting at 18 February 2022\n",
      "\n"
     ]
    },
    {
     "name": "stderr",
     "output_type": "stream",
     "text": [
      "Processing articles from lanacion.com.ar/economia: 100%|██████████| 93/93 [02:55<00:00,  1.88s/it]\n",
      "Processing articles from lanacion.com.ar/politica/: 100%|██████████| 56/56 [01:45<00:00,  1.89s/it]\n",
      "Processing articles from perfil.com/seccion/economia: 0it [00:00, ?it/s]\n",
      "Processing articles from perfil.com/seccion/politica: 0it [00:00, ?it/s]\n",
      "Processing articles from clarin.com/economia: 100%|██████████| 49/49 [01:31<00:00,  1.86s/it]\n",
      "Processing articles from clarin.com/politica: 100%|██████████| 58/58 [01:48<00:00,  1.87s/it]\n"
     ]
    },
    {
     "name": "stdout",
     "output_type": "stream",
     "text": [
      "\n",
      "\n",
      "Fetching articles starting at 06 March 2022\n",
      "\n"
     ]
    },
    {
     "name": "stderr",
     "output_type": "stream",
     "text": [
      "Processing articles from lanacion.com.ar/economia: 100%|██████████| 78/78 [02:26<00:00,  1.88s/it]\n",
      "Processing articles from lanacion.com.ar/politica/: 100%|██████████| 69/69 [02:10<00:00,  1.89s/it]\n",
      "Processing articles from perfil.com/seccion/economia: 0it [00:00, ?it/s]\n",
      "Processing articles from perfil.com/seccion/politica: 0it [00:00, ?it/s]\n",
      "Processing articles from clarin.com/economia: 100%|██████████| 51/51 [01:37<00:00,  1.91s/it]\n",
      "Processing articles from clarin.com/politica: 100%|██████████| 82/82 [02:34<00:00,  1.89s/it]\n"
     ]
    },
    {
     "name": "stdout",
     "output_type": "stream",
     "text": [
      "\n",
      "\n",
      "Fetching articles starting at 22 March 2022\n",
      "\n"
     ]
    },
    {
     "name": "stderr",
     "output_type": "stream",
     "text": [
      "Processing articles from lanacion.com.ar/economia: 100%|██████████| 100/100 [03:07<00:00,  1.87s/it]\n",
      "Processing articles from lanacion.com.ar/politica/: 100%|██████████| 97/97 [03:04<00:00,  1.91s/it]\n",
      "Processing articles from perfil.com/seccion/economia: 0it [00:00, ?it/s]\n",
      "Processing articles from perfil.com/seccion/politica: 0it [00:00, ?it/s]\n",
      "Processing articles from clarin.com/economia: 100%|██████████| 54/54 [01:41<00:00,  1.88s/it]\n",
      "Processing articles from clarin.com/politica: 100%|██████████| 100/100 [03:08<00:00,  1.88s/it]\n"
     ]
    },
    {
     "name": "stdout",
     "output_type": "stream",
     "text": [
      "\n",
      "\n",
      "Fetching articles starting at 07 April 2022\n",
      "\n"
     ]
    },
    {
     "name": "stderr",
     "output_type": "stream",
     "text": [
      "Processing articles from lanacion.com.ar/economia: 100%|██████████| 100/100 [03:10<00:00,  1.90s/it]\n",
      "Processing articles from lanacion.com.ar/politica/: 100%|██████████| 88/88 [02:46<00:00,  1.90s/it]\n",
      "Processing articles from perfil.com/seccion/economia: 0it [00:00, ?it/s]\n",
      "Processing articles from perfil.com/seccion/politica: 0it [00:00, ?it/s]\n",
      "Processing articles from clarin.com/economia: 100%|██████████| 47/47 [01:30<00:00,  1.92s/it]\n",
      "Processing articles from clarin.com/politica: 100%|██████████| 90/90 [02:52<00:00,  1.91s/it]\n"
     ]
    },
    {
     "name": "stdout",
     "output_type": "stream",
     "text": [
      "\n",
      "\n",
      "Fetching articles starting at 23 April 2022\n",
      "\n"
     ]
    },
    {
     "name": "stderr",
     "output_type": "stream",
     "text": [
      "Processing articles from lanacion.com.ar/economia: 100%|██████████| 100/100 [03:09<00:00,  1.89s/it]\n",
      "Processing articles from lanacion.com.ar/politica/: 100%|██████████| 84/84 [02:37<00:00,  1.88s/it]\n",
      "Processing articles from perfil.com/seccion/economia: 0it [00:00, ?it/s]\n",
      "Processing articles from perfil.com/seccion/politica: 0it [00:00, ?it/s]\n",
      "Processing articles from clarin.com/economia: 100%|██████████| 52/52 [01:38<00:00,  1.90s/it]\n",
      "Processing articles from clarin.com/politica: 100%|██████████| 89/89 [02:49<00:00,  1.90s/it]\n"
     ]
    },
    {
     "name": "stdout",
     "output_type": "stream",
     "text": [
      "\n",
      "\n",
      "Fetching articles starting at 09 May 2022\n",
      "\n"
     ]
    },
    {
     "name": "stderr",
     "output_type": "stream",
     "text": [
      "Processing articles from lanacion.com.ar/economia: 100%|██████████| 100/100 [03:07<00:00,  1.88s/it]\n",
      "Processing articles from lanacion.com.ar/politica/: 100%|██████████| 88/88 [02:44<00:00,  1.86s/it]\n",
      "Processing articles from perfil.com/seccion/economia: 0it [00:00, ?it/s]\n",
      "Processing articles from perfil.com/seccion/politica: 0it [00:00, ?it/s]\n",
      "Processing articles from clarin.com/economia: 100%|██████████| 57/57 [01:46<00:00,  1.87s/it]\n",
      "Processing articles from clarin.com/politica: 100%|██████████| 91/91 [02:55<00:00,  1.93s/it]\n"
     ]
    },
    {
     "name": "stdout",
     "output_type": "stream",
     "text": [
      "\n",
      "\n",
      "Fetching articles starting at 25 May 2022\n",
      "\n"
     ]
    },
    {
     "name": "stderr",
     "output_type": "stream",
     "text": [
      "Processing articles from lanacion.com.ar/economia: 100%|██████████| 100/100 [03:08<00:00,  1.89s/it]\n",
      "Processing articles from lanacion.com.ar/politica/: 100%|██████████| 90/90 [02:51<00:00,  1.91s/it]\n",
      "Processing articles from perfil.com/seccion/economia: 0it [00:00, ?it/s]\n",
      "Processing articles from perfil.com/seccion/politica: 0it [00:00, ?it/s]\n",
      "Processing articles from clarin.com/economia: 100%|██████████| 60/60 [01:51<00:00,  1.86s/it]\n",
      "Processing articles from clarin.com/politica: 100%|██████████| 84/84 [02:36<00:00,  1.86s/it]\n"
     ]
    },
    {
     "name": "stdout",
     "output_type": "stream",
     "text": [
      "\n",
      "\n",
      "Fetching articles starting at 10 June 2022\n",
      "\n"
     ]
    },
    {
     "name": "stderr",
     "output_type": "stream",
     "text": [
      "Processing articles from lanacion.com.ar/economia: 100%|██████████| 100/100 [03:09<00:00,  1.90s/it]\n",
      "Processing articles from lanacion.com.ar/politica/: 100%|██████████| 83/83 [02:36<00:00,  1.89s/it]\n",
      "Processing articles from perfil.com/seccion/economia: 0it [00:00, ?it/s]\n",
      "Processing articles from perfil.com/seccion/politica: 0it [00:00, ?it/s]\n",
      "Processing articles from clarin.com/economia: 100%|██████████| 51/51 [01:36<00:00,  1.89s/it]\n",
      "Processing articles from clarin.com/politica: 100%|██████████| 75/75 [02:20<00:00,  1.87s/it]\n"
     ]
    },
    {
     "name": "stdout",
     "output_type": "stream",
     "text": [
      "\n",
      "\n",
      "Fetching articles starting at 26 June 2022\n",
      "\n"
     ]
    },
    {
     "name": "stderr",
     "output_type": "stream",
     "text": [
      "Processing articles from lanacion.com.ar/economia: 100%|██████████| 100/100 [03:08<00:00,  1.89s/it]\n",
      "Processing articles from lanacion.com.ar/politica/: 100%|██████████| 100/100 [03:09<00:00,  1.90s/it]\n",
      "Processing articles from perfil.com/seccion/economia: 0it [00:00, ?it/s]\n",
      "Processing articles from perfil.com/seccion/politica: 0it [00:00, ?it/s]\n",
      "Processing articles from clarin.com/economia: 100%|██████████| 42/42 [01:20<00:00,  1.91s/it]\n",
      "Processing articles from clarin.com/politica: 100%|██████████| 86/86 [02:42<00:00,  1.89s/it]\n"
     ]
    },
    {
     "name": "stdout",
     "output_type": "stream",
     "text": [
      "\n",
      "\n",
      "Fetching articles starting at 12 July 2022\n",
      "\n"
     ]
    },
    {
     "name": "stderr",
     "output_type": "stream",
     "text": [
      "Processing articles from lanacion.com.ar/economia: 100%|██████████| 100/100 [03:05<00:00,  1.86s/it]\n",
      "Processing articles from lanacion.com.ar/politica/: 100%|██████████| 94/94 [02:57<00:00,  1.89s/it]\n",
      "Processing articles from perfil.com/seccion/economia: 0it [00:00, ?it/s]\n",
      "Processing articles from perfil.com/seccion/politica: 0it [00:00, ?it/s]\n",
      "Processing articles from clarin.com/economia: 100%|██████████| 55/55 [01:43<00:00,  1.89s/it]\n",
      "Processing articles from clarin.com/politica: 100%|██████████| 70/70 [02:13<00:00,  1.91s/it]\n"
     ]
    },
    {
     "name": "stdout",
     "output_type": "stream",
     "text": [
      "\n",
      "\n",
      "Fetching articles starting at 28 July 2022\n",
      "\n"
     ]
    },
    {
     "name": "stderr",
     "output_type": "stream",
     "text": [
      "Processing articles from lanacion.com.ar/economia: 100%|██████████| 100/100 [03:08<00:00,  1.89s/it]\n",
      "Processing articles from lanacion.com.ar/politica/: 100%|██████████| 100/100 [03:10<00:00,  1.90s/it]\n",
      "Processing articles from perfil.com/seccion/economia: 0it [00:00, ?it/s]\n",
      "Processing articles from perfil.com/seccion/politica: 0it [00:00, ?it/s]\n",
      "Processing articles from clarin.com/economia: 100%|██████████| 47/47 [01:29<00:00,  1.91s/it]\n",
      "Processing articles from clarin.com/politica: 100%|██████████| 79/79 [02:28<00:00,  1.88s/it]\n"
     ]
    },
    {
     "name": "stdout",
     "output_type": "stream",
     "text": [
      "\n",
      "\n",
      "Fetching articles starting at 13 August 2022\n",
      "\n"
     ]
    },
    {
     "name": "stderr",
     "output_type": "stream",
     "text": [
      "Processing articles from lanacion.com.ar/economia: 100%|██████████| 100/100 [03:08<00:00,  1.89s/it]\n",
      "Processing articles from lanacion.com.ar/politica/: 100%|██████████| 100/100 [03:07<00:00,  1.87s/it]\n",
      "Processing articles from perfil.com/seccion/economia: 0it [00:00, ?it/s]\n",
      "Processing articles from perfil.com/seccion/politica: 0it [00:00, ?it/s]\n",
      "Processing articles from clarin.com/economia: 100%|██████████| 48/48 [01:30<00:00,  1.88s/it]\n",
      "Processing articles from clarin.com/politica: 100%|██████████| 92/92 [02:53<00:00,  1.88s/it]\n"
     ]
    },
    {
     "name": "stdout",
     "output_type": "stream",
     "text": [
      "\n",
      "\n",
      "Fetching articles starting at 29 August 2022\n",
      "\n"
     ]
    },
    {
     "name": "stderr",
     "output_type": "stream",
     "text": [
      "Processing articles from lanacion.com.ar/economia: 100%|██████████| 100/100 [03:05<00:00,  1.85s/it]\n",
      "Processing articles from lanacion.com.ar/politica/: 100%|██████████| 100/100 [03:09<00:00,  1.90s/it]\n",
      "Processing articles from perfil.com/seccion/economia: 0it [00:00, ?it/s]\n",
      "Processing articles from perfil.com/seccion/politica: 0it [00:00, ?it/s]\n",
      "Processing articles from clarin.com/economia: 100%|██████████| 53/53 [01:41<00:00,  1.92s/it]\n",
      "Processing articles from clarin.com/politica: 100%|██████████| 97/97 [03:06<00:00,  1.93s/it]\n"
     ]
    },
    {
     "name": "stdout",
     "output_type": "stream",
     "text": [
      "\n",
      "\n",
      "Fetching articles starting at 14 September 2022\n",
      "\n"
     ]
    },
    {
     "name": "stderr",
     "output_type": "stream",
     "text": [
      "Processing articles from lanacion.com.ar/economia: 100%|██████████| 100/100 [03:09<00:00,  1.89s/it]\n",
      "Processing articles from lanacion.com.ar/politica/: 100%|██████████| 100/100 [03:08<00:00,  1.88s/it]\n",
      "Processing articles from perfil.com/seccion/economia: 0it [00:00, ?it/s]\n",
      "Processing articles from perfil.com/seccion/politica: 0it [00:00, ?it/s]\n",
      "Processing articles from clarin.com/economia: 100%|██████████| 52/52 [01:38<00:00,  1.89s/it]\n",
      "Processing articles from clarin.com/politica: 100%|██████████| 73/73 [02:18<00:00,  1.89s/it]\n"
     ]
    },
    {
     "name": "stdout",
     "output_type": "stream",
     "text": [
      "\n",
      "\n",
      "Fetching articles starting at 30 September 2022\n",
      "\n"
     ]
    },
    {
     "name": "stderr",
     "output_type": "stream",
     "text": [
      "Processing articles from lanacion.com.ar/economia: 100%|██████████| 100/100 [03:09<00:00,  1.89s/it]\n",
      "Processing articles from lanacion.com.ar/politica/: 100%|██████████| 79/79 [02:30<00:00,  1.91s/it]\n",
      "Processing articles from perfil.com/seccion/economia: 0it [00:00, ?it/s]\n",
      "Processing articles from perfil.com/seccion/politica: 0it [00:00, ?it/s]\n",
      "Processing articles from clarin.com/economia: 100%|██████████| 50/50 [01:33<00:00,  1.88s/it]\n",
      "Processing articles from clarin.com/politica: 100%|██████████| 79/79 [02:28<00:00,  1.88s/it]\n"
     ]
    },
    {
     "name": "stdout",
     "output_type": "stream",
     "text": [
      "\n",
      "\n",
      "Fetching articles starting at 16 October 2022\n",
      "\n"
     ]
    },
    {
     "name": "stderr",
     "output_type": "stream",
     "text": [
      "Processing articles from lanacion.com.ar/economia: 100%|██████████| 100/100 [03:08<00:00,  1.88s/it]\n",
      "Processing articles from lanacion.com.ar/politica/: 100%|██████████| 100/100 [03:07<00:00,  1.87s/it]\n",
      "Processing articles from perfil.com/seccion/economia: 0it [00:00, ?it/s]\n",
      "Processing articles from perfil.com/seccion/politica: 0it [00:00, ?it/s]\n",
      "Processing articles from clarin.com/economia: 100%|██████████| 72/72 [02:14<00:00,  1.86s/it]\n",
      "Processing articles from clarin.com/politica: 100%|██████████| 86/86 [02:43<00:00,  1.90s/it]\n"
     ]
    },
    {
     "name": "stdout",
     "output_type": "stream",
     "text": [
      "\n",
      "\n",
      "Fetching articles starting at 01 November 2022\n",
      "\n"
     ]
    },
    {
     "name": "stderr",
     "output_type": "stream",
     "text": [
      "Processing articles from lanacion.com.ar/economia: 100%|██████████| 100/100 [03:09<00:00,  1.90s/it]\n",
      "Processing articles from lanacion.com.ar/politica/: 100%|██████████| 100/100 [03:08<00:00,  1.88s/it]\n",
      "Processing articles from perfil.com/seccion/economia: 0it [00:00, ?it/s]\n",
      "Processing articles from perfil.com/seccion/politica: 0it [00:00, ?it/s]\n",
      "Processing articles from clarin.com/economia: 100%|██████████| 66/66 [02:04<00:00,  1.89s/it]\n",
      "Processing articles from clarin.com/politica: 100%|██████████| 68/68 [02:07<00:00,  1.88s/it]\n"
     ]
    },
    {
     "name": "stdout",
     "output_type": "stream",
     "text": [
      "\n",
      "\n",
      "Fetching articles starting at 17 November 2022\n",
      "\n"
     ]
    },
    {
     "name": "stderr",
     "output_type": "stream",
     "text": [
      "Processing articles from lanacion.com.ar/economia: 100%|██████████| 100/100 [03:10<00:00,  1.91s/it]\n",
      "Processing articles from lanacion.com.ar/politica/: 100%|██████████| 92/92 [02:53<00:00,  1.88s/it]\n",
      "Processing articles from perfil.com/seccion/economia: 0it [00:00, ?it/s]\n",
      "Processing articles from perfil.com/seccion/politica: 0it [00:00, ?it/s]\n",
      "Processing articles from clarin.com/economia: 100%|██████████| 71/71 [02:12<00:00,  1.87s/it]\n",
      "Processing articles from clarin.com/politica: 100%|██████████| 54/54 [01:41<00:00,  1.89s/it]\n"
     ]
    },
    {
     "name": "stdout",
     "output_type": "stream",
     "text": [
      "\n",
      "\n",
      "Fetching articles starting at 03 December 2022\n",
      "\n"
     ]
    },
    {
     "name": "stderr",
     "output_type": "stream",
     "text": [
      "Processing articles from lanacion.com.ar/economia: 100%|██████████| 100/100 [03:07<00:00,  1.88s/it]\n",
      "Processing articles from lanacion.com.ar/politica/: 100%|██████████| 77/77 [02:25<00:00,  1.89s/it]\n",
      "Processing articles from perfil.com/seccion/economia: 0it [00:00, ?it/s]\n",
      "Processing articles from perfil.com/seccion/politica: 0it [00:00, ?it/s]\n",
      "Processing articles from clarin.com/economia: 100%|██████████| 62/62 [01:56<00:00,  1.88s/it]\n",
      "Processing articles from clarin.com/politica: 100%|██████████| 56/56 [01:45<00:00,  1.88s/it]\n"
     ]
    },
    {
     "name": "stdout",
     "output_type": "stream",
     "text": [
      "\n",
      "\n",
      "Fetching articles starting at 19 December 2022\n",
      "\n"
     ]
    },
    {
     "name": "stderr",
     "output_type": "stream",
     "text": [
      "Processing articles from lanacion.com.ar/economia: 100%|██████████| 100/100 [03:08<00:00,  1.88s/it]\n",
      "Processing articles from lanacion.com.ar/politica/: 100%|██████████| 70/70 [02:12<00:00,  1.89s/it]\n",
      "Processing articles from perfil.com/seccion/economia: 0it [00:00, ?it/s]\n",
      "Processing articles from perfil.com/seccion/politica: 0it [00:00, ?it/s]\n",
      "Processing articles from clarin.com/economia: 100%|██████████| 44/44 [01:22<00:00,  1.88s/it]\n",
      "Processing articles from clarin.com/politica: 100%|██████████| 54/54 [01:41<00:00,  1.88s/it]"
     ]
    },
    {
     "name": "stdout",
     "output_type": "stream",
     "text": [
      "\n",
      "\n"
     ]
    },
    {
     "name": "stderr",
     "output_type": "stream",
     "text": [
      "\n"
     ]
    }
   ],
   "source": [
    "sites = ['lanacion.com.ar/economia', 'lanacion.com.ar/politica',\n",
    "         'perfil.com/noticias/politica', 'perfil.com/noticias/economia',\n",
    "         'clarin.com/economia', 'clarin.com/politica']\n",
    "\n",
    "news_fetcher = News(start_date=None, end_date=None)\n",
    "all_articles = []\n",
    "start = datetime.date(2022, 1, 1)\n",
    "end_of_year = datetime.date(2022, 12, 31)\n",
    "delta_days = 15\n",
    "\n",
    "# Fetch news for entire year increasing by delta_days\n",
    "while start <= end_of_year:\n",
    "    end = min(start + datetime.timedelta(days=delta_days), end_of_year)\n",
    "    news_fetcher.update_google_news_dates(start, end)\n",
    "\n",
    "    print(f\"Fetching articles starting at {start.strftime('%d %B %Y')}\\n\")\n",
    "\n",
    "    articles = news_fetcher.fetch_articles(sites, time_interval=1)\n",
    "    all_articles.extend(articles)\n",
    "\n",
    "    start = start + datetime.timedelta(days=delta_days + 1)\n",
    "    print('\\n')"
   ]
  },
  {
   "cell_type": "code",
   "execution_count": 58,
   "metadata": {
    "colab": {
     "base_uri": "https://localhost:8080/",
     "height": 590
    },
    "id": "0DNb9myO-Knc",
    "outputId": "29505ae7-45e6-4a49-c75c-fcbb3b0f6902"
   },
   "outputs": [
    {
     "data": {
      "application/vnd.google.colaboratory.intrinsic+json": {
       "summary": "{\n  \"name\": \"articles_df\",\n  \"rows\": 9926,\n  \"fields\": [\n    {\n      \"column\": \"title\",\n      \"properties\": {\n        \"dtype\": \"category\",\n        \"num_unique_values\": 84,\n        \"samples\": [\n          \"Riesgos y oportunidades: \\u00bfd\\u00f3nde conviene invertir en 2022? - LA NACION\",\n          \"La resoluci\\u00f3n del Senasa que tiene en vilo a las ferias ganaderas del interior - LA NACION\",\n          \"Aumentar impuestos tiene consecuencias - LA NACION\"\n        ],\n        \"semantic_type\": \"\",\n        \"description\": \"\"\n      }\n    },\n    {\n      \"column\": \"description\",\n      \"properties\": {\n        \"dtype\": \"category\",\n        \"num_unique_values\": 84,\n        \"samples\": [\n          \"Expertos consultados por LA NACION analizaron los instrumentos m\\u00e1s atractivos para este a\\u00f1o; las negociaciones con el FMI, la pandemia y las luchas geopol\\u00edticas, algunas de las variables determinantes\",\n          \"Una disposici\\u00f3n del organismo sanitario dio plazos para que los establecimientos de remates adec\\u00faen sus instalaciones de acuerdo a normas internacionales de sanidad y bienestar animal; la Sociedad Rural de Bol\\u00edvar, entre otras, no consigue la habilitaci\\u00f3n que present\\u00f3 m\\u00e1s de cuatro meses atr\\u00e1s\",\n          \"Aumentar impuestos tiene consecuencias\"\n        ],\n        \"semantic_type\": \"\",\n        \"description\": \"\"\n      }\n    },\n    {\n      \"column\": \"published date\",\n      \"properties\": {\n        \"dtype\": \"object\",\n        \"num_unique_values\": 20,\n        \"samples\": [\n          \"Thu, 13 Jan 2022 08:00:00 GMT\",\n          \"Fri, 28 Jan 2022 08:00:00 GMT\",\n          \"Wed, 01 Jun 2022 12:47:15 GMT\"\n        ],\n        \"semantic_type\": \"\",\n        \"description\": \"\"\n      }\n    },\n    {\n      \"column\": \"url\",\n      \"properties\": {\n        \"dtype\": \"category\",\n        \"num_unique_values\": 84,\n        \"samples\": [\n          \"https://www.lanacion.com.ar/economia/donde-invertir-en-2022-nid10012022/\",\n          \"https://www.lanacion.com.ar/economia/campo/ganaderia/la-resolucion-del-senasa-que-tiene-en-vilo-a-las-ferias-ganaderas-del-interior-nid13012022/\",\n          \"https://www.lanacion.com.ar/economia/aumentar-impuestos-tiene-consecuencias-nid03012022/\"\n        ],\n        \"semantic_type\": \"\",\n        \"description\": \"\"\n      }\n    },\n    {\n      \"column\": \"publisher\",\n      \"properties\": {\n        \"dtype\": \"category\",\n        \"num_unique_values\": 80,\n        \"samples\": [\n          {\n            \"href\": \"https://www.lanacion.com.ar\",\n            \"title\": \"LA NACION\"\n          },\n          {\n            \"href\": \"https://www.lanacion.com.ar\",\n            \"title\": \"LA NACION\"\n          },\n          {\n            \"href\": \"https://www.lanacion.com.ar\",\n            \"title\": \"LA NACION\"\n          }\n        ],\n        \"semantic_type\": \"\",\n        \"description\": \"\"\n      }\n    },\n    {\n      \"column\": \"text\",\n      \"properties\": {\n        \"dtype\": \"category\",\n        \"num_unique_values\": 84,\n        \"samples\": [\n          \"Expertos consultados por LA NACION analizaron los instrumentos m\\u00e1s atractivos para este a\\u00f1o; las negociaciones con el FMI, la pandemia y las luchas geopol\\u00edticas, algunas de las variables determinantes\\n\\nIncertidumbre y volatilidad. Esas son las dos palabras que utilizaron los economistas para definir 2022, un a\\u00f1o que trae novedades por todos los frentes. En la Argentina, las negociaciones con el Fondo Monetario Internacional (FMI) ser\\u00e1n un driver fundamental para las inversiones locales en los pr\\u00f3ximos meses. A nivel global, el avance de la pandemia, las luchas geopol\\u00edticas, la inflaci\\u00f3n y el cambio de pol\\u00edticas monetarias figuran entre los temas que se deber\\u00e1n seguir de cerca.\\n\\nAnte tal escenario, a la hora de armar una cartera de inversiones tiene que primar la prudencia. Consultados con LA NACION, distintos especialistas evaluaron cu\\u00e1les son los instrumentos m\\u00e1s atractivos para los diversos contextos, sus riesgos y oportunidades. \\u201cEn 2020 vol\\u00f3 todo por la llegada del Covid y la inyecci\\u00f3n de dinero. El a\\u00f1o pasado fue de gran incertidumbre, donde empez\\u00f3 la volatilidad, pero los \\u00edndices afuera siguieron en zonas de m\\u00e1ximos. Este a\\u00f1o, la volatilidad aumentar\\u00e1 y habr\\u00e1 una gran incertidumbre, esto est\\u00e1 clar\\u00edsimo\\u201d, afirm\\u00f3 Fernando Camusso, director de Rafaela Capital.\\n\\nUna primera advertencia: en un a\\u00f1o que se ver\\u00e1 marcado por noticias clave para el mercado, el inversor deber\\u00e1 armar su cartera pensando en el primer trimestre. Marzo, ya podr\\u00eda ser otra historia.\\n\\nEs aconsejable que los inversores armen su cartera pensando en el primer trimestre de 2022 Shutterstock\\n\\nCedears: una inversi\\u00f3n atada al d\\u00f3lar (y a la volatilidad internacional)\\n\\nLos Certificados de Dep\\u00f3sitos Argentinos, m\\u00e1s conocidos como cedears, se convirtieron en los \\u00faltimos dos a\\u00f1os en uno de los activos preferidos de los argentinos: en 2021, representaron aproximadamente el 70% de las operaciones en renta variable. Esta herramienta permite invertir en pesos en las grandes compa\\u00f1\\u00edas del mundo -como Coca-Cola, Apple o Disney-, aunque la cotizaci\\u00f3n est\\u00e1 atada a las variaciones del d\\u00f3lar contado con liquidaci\\u00f3n (CCL). Es decir, una manera indirecta de dolarizarse.\\n\\nA esto se sum\\u00f3 que el viernes pasado, la Comisi\\u00f3n Nacional de Valores (CNV) dio a conocer una gran noticia para el mercado local: a trav\\u00e9s de los cedears tambi\\u00e9n se podr\\u00e1n adquirir los llamados ETFs -exchange-traded fund, en ingl\\u00e9s, o fondo de inversi\\u00f3n cotizado-. Estos instrumentos replican el rendimiento de otro activo, que puede ser un \\u00edndice (S&P500), un sector (como el tecnol\\u00f3gico) o un commodity (oro). En un principio, desde el pa\\u00eds se podr\\u00e1n operar en pesos nueve ETFs internacionales.\\n\\nAlgunos ahorristas apuestan a los Certificados de Dep\\u00f3sitos Argentinos para dolarizarse de manera indirecta Shutterstock\\n\\nLos cedears, sea a trav\\u00e9s de la compra de la acci\\u00f3n de una firma o mediante ETFs, son una manera de correrse del riesgo argentino. Sin embargo, los economistas convocados se\\u00f1alaron que 2022 tampoco ser\\u00e1 un a\\u00f1o tranquilo para el mercado internacional.\\n\\nDe acuerdo con la encuesta Markets Live Global de Bloomberg, la inflaci\\u00f3n ser\\u00e1 el tema central que atravesar\\u00e1 todo el a\\u00f1o. Seg\\u00fan Nery Persichini, estratega de GMA Capital, esta fuente de incertidumbre est\\u00e1 relacionada con la pol\\u00edtica monetaria que adoptar\\u00e1n los diferentes pa\\u00edses. \\u201cComo ser\\u00e1 necesaria sinton\\u00eda fina y equilibrio para moverse sobre el filo de una navaja, el proceso desarme de los est\\u00edmulos monetarios de los grandes bancos centrales ante picos de inflaci\\u00f3n no vistos en 30 a\\u00f1os ser\\u00e1 todo lo contrario al \\u2018viento de cola\\u2019 para el mundo. En particular para los emergentes, dependientes tanto de flujos de capitales como de ingresos comerciales a trav\\u00e9s de commodities\\u201d, analiz\\u00f3.\\n\\nEn ese contexto, la atenci\\u00f3n estar\\u00e1 puesta en la decisi\\u00f3n que tome la Reserva Federal de Estados Unidos (Fed) respecto a la reducci\\u00f3n de compras de los bonos del Tesoro (tapering) y la suba de las tasas de inter\\u00e9s. \\u201cHabr\\u00e1 que esperar un poco para la compra de cedears, porque hay que ver con qu\\u00e9 agresividad retirar\\u00e1 la Fed los est\\u00edmulos sobre la econom\\u00eda. En caso de invertir, habr\\u00eda que inclinarse por las compa\\u00f1\\u00edas que menos deudas tienen, menos dependencia del capital de terceros. En un escenario de aumento de tasas, las mayores rentabilidades estar\\u00e1n en las empresas que no tienen financiamiento\\u201d, sostuvo Walter Morales, presidente de Wise Capital.\\n\\nOtros riesgos internacionales de 2022 son la pandemia, con la llegada de nuevas variantes y eventuales restricciones, y las tensiones geopol\\u00edticas. Persichini remarc\\u00f3 que no se trata de riesgos \\u201cinocuos\\u201d ya que en el pasado mostraron capacidad de da\\u00f1o sobre la econom\\u00eda y los mercados.\\n\\n\\u201cLos cedears son activos de riesgo, por eso, en un a\\u00f1o de volatilidad, hay que tener en cuenta el escenario que se presenta. En 2022 es recomendable realizar una inversi\\u00f3n selectiva. Por ejemplo, buscar\\u00eda empresas del sector energ\\u00eda, utilities, empresas c\\u00edclicas. Esas me gustan para tener como inversi\\u00f3n. En cambio, es probable que las tecnol\\u00f3gicas sean las que m\\u00e1s sufran\\u201d, indic\\u00f3 Camusso.\\n\\nBadlar, CER y dollar-linked: cobertura ante tres grandes factores\\n\\nDurante el a\\u00f1o habr\\u00e1 tres variables que seguir de cerca en la Argentina: el movimiento del tipo de cambio oficial, la inflaci\\u00f3n y la suba de tasas del Banco Central (BCRA). Y dentro del universo de deuda en pesos, hay opciones para cubrirse o sacarle ventaja a cada uno de ellos.\\n\\nEn primer lugar, todos los economistas coincidieron en incluir en la cartera una parte en bonos Badlar (que ajusta por la referencia de la tasa de los plazos fijos). Sobre todo teniendo en cuenta que la semana pasada el Banco Central aument\\u00f3 la tasa de inter\\u00e9s en dos puntos, hasta un 40%. \\u201cEsos fondos van a preservar bastante bien el valor, por lo que se vuelven un buen refugio\\u201d, argument\\u00f3 Jos\\u00e9 Echag\\u00fce, head de Estrategia en Consultatio Investment.\\n\\nEn tanto, los activos que ajustan por CER (inflaci\\u00f3n) siguen siendo atractivos, tras haber sido la inversi\\u00f3n estrella en 2021 (el Boncer acumul\\u00f3 una suba del 71,5%). \\u201cSi uno piensa que la inflaci\\u00f3n se encontrar\\u00e1 entre un 58% y 70%, entonces tiene que pensar en bonos CER. Pero hay que tener en cuenta la inflaci\\u00f3n de noviembre [desaceler\\u00f3 a un 2,5%], ya que eso podr\\u00eda dejarlos por debajo de las expectativas\\u201d, a\\u00f1adi\\u00f3 Morales.\\n\\nLa \\u00faltima alternativa son los activos dollar-linked, que se suscriben y se pagan en pesos, pero su valor est\\u00e1 anclado a la variaci\\u00f3n del tipo de cambio oficial. En definitiva, una manera de cubrirse ante un posible salto devaluatorio. Si el objetivo es percibir ganancias de un potencial aceleramiento del crawling-peg (devaluaci\\u00f3n diaria) o salto cambiario, este a\\u00f1o podr\\u00edan ser una opci\\u00f3n.\\n\\n\\u201cEs necesario considerar un posible cambio en el r\\u00e9gimen de tipo de cambio y una muy probable aceleraci\\u00f3n de la inflaci\\u00f3n durante los pr\\u00f3ximos meses, impulsada por el rezago del alt\\u00edsimo ritmo de asistencia monetaria del BCRA al Tesoro durante el 2021, que represent\\u00f3 el 4,6% del PBI. La situaci\\u00f3n actual de extrema escasez de reservas netas nos obliga a cuestionar cu\\u00e1nto tiempo el Banco Central podr\\u00e1 estirar esta situaci\\u00f3n sin un sinceramiento de tipo de cambio\\u201d, se\\u00f1al\\u00f3 Pedro Siaba Serrate, gerente de research de Portfolio Personal de Inversiones (PPI).\\n\\nNo obstante, el experto advirti\\u00f3 que es probable que \\u201cse repita el error\\u201d de Axel Kicillof en 2014, cuando era ministro de Econom\\u00eda. En ese entonces, intent\\u00f3 revertir el atraso cambiario v\\u00eda aceleraci\\u00f3n del tipo de cambio acorde a la inflaci\\u00f3n. \\u201cSin un plan econ\\u00f3mico razonable, el \\u00e9xito de este camino fue ef\\u00edmero. Tras la devaluaci\\u00f3n de 2014, el nivel de precios hab\\u00eda incorporado el 65% del movimiento de tipo de cambio en los primeros 6 meses y al a\\u00f1o hab\\u00eda absorbido el 98%. Como no es posible saber el momento ni la magnitud del movimiento del tipo de cambio ni la velocidad de transmisi\\u00f3n de la devaluaci\\u00f3n a la inflaci\\u00f3n, creemos prudente mantener diversificada la cartera en pesos\\u201d, indic\\u00f3.\\n\\nBonos del canje de deuda: para los arriesgados, el acuerdo con el FMI como apuesta\\n\\nUn acuerdo con el FMI podr\\u00eda ser una \\u201cventana de oportunidad\\u201d para aquellos inversores que tienen un perfil m\\u00e1s agresivo. La semana pasada, el ministro Mart\\u00edn Guzm\\u00e1n admiti\\u00f3 que las negociaciones est\\u00e1n trabadas por desacuerdos sobre el sendero fiscal que deber\\u00e1 llevar adelante el pa\\u00eds, algo que repercuti\\u00f3 especialmente en los bonos del \\u00faltimo canje de deuda.\\n\\nNo obstante, los economistas consultados consideraron que, a pesar de las dilataciones, se alcanzar\\u00e1 un acuerdo para marzo y, como consecuencia, los t\\u00edtulos soberanos se ver\\u00e1n impulsados al alza. Apostando a este escenario, Casmusso opin\\u00f3 que la estrategia ser\\u00eda entrar con los actuales precios de subsuelos y salir cuando se anuncie un acuerdo definitivo, ponderando los bonos que operan bajo ley extranjera y con vencimientos a 2038.\\n\\n\\u201cLa novela con el FMI y la presentaci\\u00f3n de un plan econ\\u00f3mico consistente son los drivers m\\u00e1s claros para desbloquear un escenario de subas, incluso cuando globalmente sopla un viento de frente. Por supuesto que los inversores deber\\u00e1n considerar otros riesgos a la hora de inclinarse por los bonos\\u201d, observaron desde GMA Capital.\\n\\nFinalmente, Siaba Serrate hizo hincapi\\u00e9 en que los t\\u00edtulos soberanos solo se recomiendan para las carteras m\\u00e1s arriesgadas. \\u201cEs muy dif\\u00edcil que la Argentina pueda evitar una nueva reestructuraci\\u00f3n entre 2024/25 (cuando el perfil de vencimientos se hace m\\u00e1s abultado), pero los precios actuales ya est\\u00e1n descontando una reestructuraci\\u00f3n extremadamente agresiva. Dicho esto, ante un cambio de expectativas, que puede despertarse reci\\u00e9n en 2023, consideramos que los instrumentos pueden tener un upside considerable. Por eso, preferimos la exposici\\u00f3n de baja paridad en el Global 2035\\u2033, cerr\\u00f3.\\n\\nMelisa Reinhold Por\",\n          \"Al doble est\\u00e1ndar de las plantas frigor\\u00edficas, en donde el Gobierno estableci\\u00f3 plazos para la adecuaci\\u00f3n del sistema de troceo de carne vacuna, una normativa del Senasa del a\\u00f1o 2020, pone en jaque a algunas ferias y remates ganaderas del interior, seg\\u00fan advierten en las sociedades rurales. Sin embargo, en el organismo sanitario, indicaron que \\u201ctodo est\\u00e1 transitando por los carriles normales\\u201d.\\n\\nEn una resoluci\\u00f3n publicada en diciembre de ese a\\u00f1o, se estableci\\u00f3 un triple est\\u00e1ndar de establecimientos y predios por cuestiones sanidad y bienestar animal, donde seg\\u00fan cu\\u00e1l sea el grupo en el que se est\\u00e1, pose\\u00edan distintos plazos para el reacomodamiento de sus instalaciones, que luego ser\\u00edan habilitados por la Direcci\\u00f3n Nacional de Sanidad Animal, que depende del organismo.\\n\\nEn este contexto, seg\\u00fan se\\u00f1ala la norma, entre los objetivos est\\u00e1 el de actualizar y unificar los requisitos para la habilitaci\\u00f3n/rehabilitaci\\u00f3n de locales de remates ferias, mercados de hacienda, exposiciones ganaderas y todo otro lugar de concentraci\\u00f3n de ganado, \\u201cteniendo en cuenta las actuales disposiciones internacionales en materia de sanidad y bienestar animal, estableciendo, adem\\u00e1s, las condiciones para su cumplimiento\\u201d.\\n\\nLas ferias que tengan remates de m\\u00e1s de mil animales, deben tener a partir del 28 de diciembre pasado sus instalaciones adecuadas a la normativa del Senasa, de lo contrario no podr\\u00e1n operar\\n\\nEl 28 de diciembre pasado caducaron todas las habilitaciones, salvo que el tr\\u00e1mite haya estado en curso. Entre las cosas que pide el Senasa est\\u00e1 el de alargar dos metros los embarcaderos en forma recta, tener una manga para animales ca\\u00eddos y un corral con agua para la hacienda.\\n\\nEn este sentido, el grupo 1, que incluye a ferias de m\\u00e1s de mil animales y comercializan el 60% de la hacienda, deb\\u00eda finalizar la construcci\\u00f3n de los embarcaderos antes del 28 de diciembre de 2021; en tanto, los del grupo 2, con remates de m\\u00e1s de 500 animales y menos de mil y que tienen el 20% de la hacienda subastada, el plazo se extiende hasta el 30 de junio de este a\\u00f1o. Mientras que, los predios dentro del grupo 3, con menos de 500 animales por feria, tienen tiempo para finalizar la construcci\\u00f3n de dichos embarcaderos hasta el 28 de diciembre de 2022.\\n\\nPara fin de a\\u00f1o, en un principio, de ese el primer grupo conformando por 56 ferias de todo el pa\\u00eds, solo 16 habr\\u00edan regularizado su situaci\\u00f3n. Si bien es \\u00e9poca de pocos remates, las que ya han tenido inconvenientes por la no habilitaci\\u00f3n son las sociedades rurales de Azul, Lincoln y Bol\\u00edvar, entre otras.\\n\\nAs\\u00ed quedaron los embarcaderos de carga y descarga en la Sociedad Rural de Azul\\n\\n\\u201cAzul acaba de recibir su habilitaci\\u00f3n hasta diciembre de 2024. En tanto, la Sociedad Rural de Lincoln, con los a\\u00f1os, qued\\u00f3 dentro del egido urbano. Por lo que si se alargan los embarcaderos como los pide el Senasa, los camiones cortar\\u00edan las calles del barrio que est\\u00e1 enfrente al predio, por lo que lo que tienen que hacer es trasladar los embarcaderos a otra parte. El caso de Bol\\u00edvar es otra cosa, todav\\u00eda no consiguen la habilitaci\\u00f3n y han presentado todos la documentaci\\u00f3n requerida \\u201c, dijo Mariano Williams, productor agropecuario en Pila y tesorero de Carbap.\\n\\nPara Patricia Iglesias, productora agropecuaria de la zona de Bol\\u00edvar, la no habilitaci\\u00f3n de la feria complica y perjudica no solo a la entidad sino a los peque\\u00f1os productores que semana a semana env\\u00edan sus animales a venderse y al personal transitorio que se contrata para los remates.\\n\\n\\u201cLa entidad envi\\u00f3 toda la documentaci\\u00f3n en septiembre pasado al Senasa local, pero parece que nunca lo elevaron al organismo central. Se han presentado los planos de las 10 hect\\u00e1reas, incluso en PDF, como nos ped\\u00edan, pero no resolvieron nada. La sociedad rural vive de las ferias y de los sellados de cereales. Los tres primeros mi\\u00e9rcoles de cada mes tres consignatarias realizan sus remates, donde se venden unos 5000 animales, aproximadamente\\u201d, indic\\u00f3 a LA NACION.\\n\\n\\u201cCon la feria suspendida, ya son dos las canceladas. Los d\\u00edas siguen pasando, se tiene todo en regla, pero la habilitaci\\u00f3n no llega. Son muchos los gastos que tiene que afrontar mes a mes la Sociedad Rural. En tanto, a los ganaderos nos est\\u00e1n partiendo en cuatro porque necesitamos vender para pagar nuestras deudas y a los m\\u00e1s de 20 peones por d\\u00eda que hacen changas esos tres d\\u00edas de cada feria\\u201d, a\\u00f1adi\\u00f3.\\n\\nSeg\\u00fan cont\\u00f3 Iglesias, uno de las observaciones que les hab\\u00edan marcado era que la feria deb\\u00eda tener los muelles de carga y descarga separados pero a pesar de su insistencia, nunca les explicaron con qu\\u00e9 material deb\\u00eda hacerse, \\u201csi con palos o de cemento\\u201d.\\n\\n\\u201cNuestras instalaciones est\\u00e1n en muy buen estado, hay alambre ol\\u00edmpico para que los animales no se escapen. Nos llaman el Palermo Chico por las instalaciones que poseemos\\u201d, indic\\u00f3.\\n\\nTambi\\u00e9n peque\\u00f1os y medianos productores del norte de la provincia de Corrientes mostraron su preocupaci\\u00f3n acerca de la no habilitaci\\u00f3n de sus ferias rurales, pese a que las mismas ya presentaron meses pasados toda la documentaci\\u00f3n.\\n\\nUn pedido al Senasa\\n\\nPara N\\u00e9stor P\\u00e9rez Ortega, gerente de la C\\u00e1mara Argentina de Consignatarios de Ganado, si bien coincide con el objetivo del Senasa sobre el reacomodamiento de los establecimientos de feria, por cuestiones del Bienestar Animal, \\u201cpareciera un mecanismo de implementaci\\u00f3n algo exagerado\\u201d.\\n\\n\\u201cQue nos den la posibilidad de hacerlo posible. Tienen raz\\u00f3n y nos demoramos en hacerlo pero no nos impidan trabajar. Es por eso por lo que el viernes pasado hemos enviado una carta al presidente del organismo sanitario para pedir una pr\\u00f3rroga y estamos esperando respuestas\\u201d, se\\u00f1al\\u00f3.\\n\\nEn este contexto, puntualiz\\u00f3 que, de no prosperar esa pr\\u00f3rroga, podr\\u00eda haber que varios damnificados, que vean conculcados su derecho a trabajar, presenten un recurso de amparo.\\n\\n\\u201cSeamos inclusivos y que se les de a todos los establecimientos el mismo plazo de reacomodamiento, porque es caprichoso tener grupos, segmentados solo por la cantidad de animales que se venden\\u201d, remarc\\u00f3.\\n\\nConsultado por LA NACION, fuentes del Senasa dijeron que todo \\u201cest\\u00e1 transitando carriles normales\\u201d. \\u201cLa resoluci\\u00f3n del 28 de diciembre de 2020 est\\u00e1 vigente. Tuvieron un a\\u00f1o para adecuarse a la norma. Las del grupo 1 son las que est\\u00e1n tramitando por estos d\\u00edas su rehabilitaci\\u00f3n. Se atienden los casos uno por uno. Hasta el momento no se evalu\\u00f3 hacer una ampliaci\\u00f3n de plazos\\u201d, indicaron y a\\u00f1adieron que \\u201cno hay tenido que suspender ni postergar remates hasta la fecha.\\n\\nMariana Reinke Por\",\n          \"Despu\\u00e9s de una elecci\\u00f3n en la que ganaron los partidos que se manifestaron contra los aumentos de impuestos y que hicieron de ese tema uno de sus principales ejes de campa\\u00f1a, el Gobierno intent\\u00f3 aumentar tributos de manera sistem\\u00e1tica, primero fracasando en el Congreso, en su intento de darle facultades extraordinarias al Presidente, y luego con la suba en el impuesto a los bienes personales para patrimonios superiores a los 100 millones de pesos, que termin\\u00f3 en un esc\\u00e1ndalo por una sesi\\u00f3n sin quorum en el Senado.\\n\\nNo conforme con eso, y preso de una voracidad fiscal que no tiene l\\u00edmites, el Ejecutivo nacional firm\\u00f3 el Pacto Fiscal con la mayor\\u00eda de los gobernadores, en el que las provincias se comprometen a lo siguiente: \\u201c\\u2026dentro del transcurso del an\\u0303o 2022, analizara\\u0301n legislar sobre un impuesto a todo aumento de riqueza obtenido a ti\\u0301tulo gratuito como consecuencia de una transmisio\\u0301n o acto de esa naturaleza, que comprenda a bienes situados en su territorio y/o beneficie a personas humanas o juri\\u0301dicas domiciliadas en el mismo, y aplicara\\u0301n ali\\u0301cuotas marginales crecientes a medida que aumenta el monto transmitido a fin de otorgar progresividad al tributo\\u201d.\\n\\nEn particular, los impuestos patrimoniales gozan de cierto respaldo en la opini\\u00f3n p\\u00fablica porque mucha gente piensa que solo los pagan \\u201clos ricos\\u201d, e incluso algunos periodistas influyentes han sostenido que \\u201cno me da ni para comentar esa brutalidad\\u201d ante la afirmaci\\u00f3n de que \\u201caumentar impuestos est\\u00e1 mal\\u201d. Pero aumentar impuestos est\\u00e1 mal.\\n\\nEn un esquema ideal, los impuestos son la consecuencia del gasto p\\u00fablico que la sociedad, con sus mecanismos democr\\u00e1ticos de consenso, acepta financiar. Pero en la realidad hay dos problemas: el primero es que en la medida en que muchos impuestos, como el inflacionario o Ingresos Brutos, no son visibles, el p\\u00fablico sufre \\u201cilusi\\u00f3n fiscal\\u201d, esto es, la idea de que puede obtener m\\u00e1s bienes p\\u00fablicos gratis, sin pagarlos. El segundo problema es que aun cuando se satisfaga el mandato constitucional que reza que \\u201cla igualdad es la base del impuesto y de las cargas p\\u00fablicas\\u201d, todos los impuestos, casi sin excepci\\u00f3n, producen un mayor o menor da\\u00f1o a la producci\\u00f3n y al consumo. Puesto en otras palabras; los impuestos causan efectos econ\\u00f3micos al modificar las decisiones de las personas, familias y empresas, o, para ponerlo en una expresi\\u00f3n que ya es casi un clich\\u00e9, \\u201cachican la torta\\u201d de la que todos despu\\u00e9s comemos.\\n\\nQui\\u00e9n se hace cargo\\n\\nPeor a\\u00fan, el contribuyente de facto del impuesto muchas veces no es el que el legislador pens\\u00f3 que se har\\u00eda cargo. Por ejemplo: no necesariamente un impuesto a la producci\\u00f3n de medicamentos ser\\u00e1 pagado por los laboratorios, porque en la medida en que los consumidores no tengan otras alternativas, sufrir\\u00e1n el traslado de la carga del nuevo tributo por la v\\u00eda de un aumento en los precios. Por la misma raz\\u00f3n, no siempre que se bajen las cargas laborales que pagan los trabajadores ser\\u00e1n ellos los que se beneficien, porque si no tienen otro lugar a donde trabajar, esa reducci\\u00f3n puede terminar siendo apropiada por los empleadores, por el camino de menores salarios.\\n\\nEn los impuestos patrimoniales se corren tres riesgos: el primero es que la al\\u00edcuota sea confiscatoria, porque supera la renta del activo y se come de esa manera \\u201cla gallina de los huevos de oro\\u201d. Esto es exactamente lo que sucede con el dinero depositado en el exterior, que rinde mucho menos del 2,25% del impuesto. El segundo es que los que sufren el intento confiscatorio del Estado cambien sus decisiones de inversi\\u00f3n eligiendo activos menos atractivos desde el punto de vista de su riesgo y su retorno, para pagar menos impuestos. Finalmente, el tercer riesgo es que la gente decida gastar su patrimonio en vez de acumularlo, lo que reduce el ahorro disponible para financiar la inversi\\u00f3n y consecuentemente el stock de capital futuro, que es la base del crecimiento econ\\u00f3mico.\\n\\nAumentar impuestos est\\u00e1 mal. Como casi todos los impuestos producen alg\\u00fan da\\u00f1o econ\\u00f3mico, el nivel ideal de impuestos ser\\u00eda cero. Pero lo ideal es enemigo de lo posible; la sociedad se organiza en torno de un Estado que provee los bienes y servicios p\\u00fablicos que el sector privado no puede hacer. De all\\u00ed que resulte tan importante el debate sobre el presupuesto en el Congreso, porque no es posible aprobar un gasto sin conectarlo con los impuestos que m\\u00e1s tarde o m\\u00e1s temprano habr\\u00e1 que cobrar para financiarlo.\\n\\nLa famosa frase \\u201cno a los impuestos sin representaci\\u00f3n\\u201d, en torno de la cual se estructur\\u00f3 la independencia norteamericana, ilustra el punto: los contribuyentes deben poder votar cada uno de los impuestos porque son ellos los que ponderar\\u00e1n al mismo tiempo la pertinencia de los gastos que esos tributos vienen a cubrir.\\n\\nY aqu\\u00ed es donde la expresi\\u00f3n \\u201caumentar cualquier impuesto est\\u00e1 mal\\u201d cobra sentido, porque la clase media est\\u00e1 votando masivamente con los pies, abandonando los servicios educativos, de salud y seguridad que provee el Estado y buscando soluciones privadas, incluso cuando tengan que pagar m\\u00e1s cara su elecci\\u00f3n.\\n\\nPagar por el Estado agregado\\n\\nM\\u00e1s a\\u00fan, el fen\\u00f3meno est\\u00e1 alcanzando a clases m\\u00e1s bajas, que buscan refugio en instituciones religiosas subsidiadas. Est\\u00e1 claro que el Estado es caro, que entrega poco y cobra mucho. Esa ineficiencia se traduce en salarios m\\u00e1s bajos para toda la poblaci\\u00f3n, porque cuando un consumidor (de aqu\\u00ed o del resto del mundo) compra un producto argentino debe pagar por el valor agregado, pero tambi\\u00e9n por el Estado agregado.\\n\\nEntonces, la \\u00fanica pregunta posible, en este contexto, es qu\\u00e9 impuesto vamos a bajar primero. En todo caso, si lo que se pretende es mejorar la estructura tributaria haci\\u00e9ndola m\\u00e1s eficiente, para castigar menos a la inversi\\u00f3n, la producci\\u00f3n y el empleo, o m\\u00e1s equitativa, para que la carga recaiga menos en los pobres, pues la pregunta deber\\u00eda ser: qu\\u00e9 impuesto vamos a bajar como contrapartida del nuevo tributo que se pretende crear o de la al\\u00edcuota que se quiere aumentar.\\n\\nYa no hay lugar para subir ning\\u00fan impuesto, y por eso el compromiso de Juntos por el Cambio es no votar ning\\u00fan aumento de impuestos. Ni uno solo.\\n\\nMart\\u00edn Tetaz Por\"\n        ],\n        \"semantic_type\": \"\",\n        \"description\": \"\"\n      }\n    },\n    {\n      \"column\": \"site\",\n      \"properties\": {\n        \"dtype\": \"category\",\n        \"num_unique_values\": 3,\n        \"samples\": [\n          \"lanacion\",\n          \"clarin\",\n          \"perfil\"\n        ],\n        \"semantic_type\": \"\",\n        \"description\": \"\"\n      }\n    },\n    {\n      \"column\": \"error\",\n      \"properties\": {\n        \"dtype\": \"string\",\n        \"num_unique_values\": 9842,\n        \"samples\": [\n          \"Error decoding URL: Request error in decode_url: 429 Client Error: Too Many Requests for url: https://www.google.com/sorry/index?continue=https://news.google.com/_/DotsSplashUi/data/batchexecute&q=EgQiimXDGNXGq7kGIjDYP_k3J_hYORj3Bzq66U2ua2UK5u5znKyLH9TpUwZHUtgzvzBpJeYtob5O_kdh-pcyAXJaAUM\",\n          \"Error decoding URL: Request error in decode_url: 429 Client Error: Too Many Requests for url: https://www.google.com/sorry/index?continue=https://news.google.com/_/DotsSplashUi/data/batchexecute&q=EgQiimXDGL65q7kGIjACZs1QM463pSURZL5B6UT1qELA8tHttps6yXEZ_2kS6wh19lIXQplUvSxvVN6WiHgyAXJaAUM\",\n          \"Error decoding URL: Request error in decode_url: 429 Client Error: Too Many Requests for url: https://www.google.com/sorry/index?continue=https://news.google.com/_/DotsSplashUi/data/batchexecute&q=EgQiimXDGMrOqrkGIjBxURhXHch6tEW7ojAY0e8y2jstiL9gL9kPWaKga5CmCOvpfaBlUX-q_7fYSO3LpTEyAXJaAUM\"\n        ],\n        \"semantic_type\": \"\",\n        \"description\": \"\"\n      }\n    }\n  ]\n}",
       "type": "dataframe",
       "variable_name": "articles_df"
      },
      "text/html": [
       "\n",
       "  <div id=\"df-19e0a419-399d-4731-947b-e43d310c1fd1\" class=\"colab-df-container\">\n",
       "    <div>\n",
       "<style scoped>\n",
       "    .dataframe tbody tr th:only-of-type {\n",
       "        vertical-align: middle;\n",
       "    }\n",
       "\n",
       "    .dataframe tbody tr th {\n",
       "        vertical-align: top;\n",
       "    }\n",
       "\n",
       "    .dataframe thead th {\n",
       "        text-align: right;\n",
       "    }\n",
       "</style>\n",
       "<table border=\"1\" class=\"dataframe\">\n",
       "  <thead>\n",
       "    <tr style=\"text-align: right;\">\n",
       "      <th></th>\n",
       "      <th>title</th>\n",
       "      <th>description</th>\n",
       "      <th>published date</th>\n",
       "      <th>url</th>\n",
       "      <th>publisher</th>\n",
       "      <th>text</th>\n",
       "      <th>site</th>\n",
       "      <th>error</th>\n",
       "    </tr>\n",
       "  </thead>\n",
       "  <tbody>\n",
       "    <tr>\n",
       "      <th>0</th>\n",
       "      <td>La resolución del Senasa que tiene en vilo a l...</td>\n",
       "      <td>Una disposición del organismo sanitario dio pl...</td>\n",
       "      <td>Thu, 13 Jan 2022 08:00:00 GMT</td>\n",
       "      <td>https://www.lanacion.com.ar/economia/campo/gan...</td>\n",
       "      <td>{'href': 'https://www.lanacion.com.ar', 'title...</td>\n",
       "      <td>Al doble estándar de las plantas frigoríficas,...</td>\n",
       "      <td>lanacion</td>\n",
       "      <td>NaN</td>\n",
       "    </tr>\n",
       "    <tr>\n",
       "      <th>1</th>\n",
       "      <td>Apagón masivo: esta es la casa que dejó sin lu...</td>\n",
       "      <td>La antena de internet de una casa produjo un c...</td>\n",
       "      <td>Wed, 12 Jan 2022 08:00:00 GMT</td>\n",
       "      <td>https://www.lanacion.com.ar/economia/apagon-ma...</td>\n",
       "      <td>{'href': 'https://www.lanacion.com.ar', 'title...</td>\n",
       "      <td>Sobre la avenida Eva Perón al 6900, en el part...</td>\n",
       "      <td>lanacion</td>\n",
       "      <td>NaN</td>\n",
       "    </tr>\n",
       "    <tr>\n",
       "      <th>2</th>\n",
       "      <td>Desembarco: finalmente Juan Valdez llega a la ...</td>\n",
       "      <td>El jueves la cadena colombiana inaugurará su p...</td>\n",
       "      <td>Tue, 11 Jan 2022 08:00:00 GMT</td>\n",
       "      <td>https://www.lanacion.com.ar/economia/negocios/...</td>\n",
       "      <td>{'href': 'https://www.lanacion.com.ar', 'title...</td>\n",
       "      <td>“¡Finalmente estamos acá!”. Así lo proclama el...</td>\n",
       "      <td>lanacion</td>\n",
       "      <td>NaN</td>\n",
       "    </tr>\n",
       "    <tr>\n",
       "      <th>3</th>\n",
       "      <td>¿Quién inventó los precios? ¿Por qué tienen qu...</td>\n",
       "      <td>Cuando rige la competencia, y el Estado ni sub...</td>\n",
       "      <td>Sun, 09 Jan 2022 08:00:00 GMT</td>\n",
       "      <td>https://www.lanacion.com.ar/economia/quien-inv...</td>\n",
       "      <td>{'href': 'https://www.lanacion.com.ar', 'title...</td>\n",
       "      <td>En un programa de televisión, a un niño que fo...</td>\n",
       "      <td>lanacion</td>\n",
       "      <td>NaN</td>\n",
       "    </tr>\n",
       "    <tr>\n",
       "      <th>4</th>\n",
       "      <td>Qué riesgo esconde el boom de las inversiones ...</td>\n",
       "      <td>Durante a pandemia se incrementó el número de ...</td>\n",
       "      <td>Fri, 14 Jan 2022 08:00:00 GMT</td>\n",
       "      <td>https://www.lanacion.com.ar/economia/que-riesg...</td>\n",
       "      <td>{'href': 'https://www.lanacion.com.ar', 'title...</td>\n",
       "      <td>La aparición de apps y plataformas que permite...</td>\n",
       "      <td>lanacion</td>\n",
       "      <td>NaN</td>\n",
       "    </tr>\n",
       "  </tbody>\n",
       "</table>\n",
       "</div>\n",
       "    <div class=\"colab-df-buttons\">\n",
       "\n",
       "  <div class=\"colab-df-container\">\n",
       "    <button class=\"colab-df-convert\" onclick=\"convertToInteractive('df-19e0a419-399d-4731-947b-e43d310c1fd1')\"\n",
       "            title=\"Convert this dataframe to an interactive table.\"\n",
       "            style=\"display:none;\">\n",
       "\n",
       "  <svg xmlns=\"http://www.w3.org/2000/svg\" height=\"24px\" viewBox=\"0 -960 960 960\">\n",
       "    <path d=\"M120-120v-720h720v720H120Zm60-500h600v-160H180v160Zm220 220h160v-160H400v160Zm0 220h160v-160H400v160ZM180-400h160v-160H180v160Zm440 0h160v-160H620v160ZM180-180h160v-160H180v160Zm440 0h160v-160H620v160Z\"/>\n",
       "  </svg>\n",
       "    </button>\n",
       "\n",
       "  <style>\n",
       "    .colab-df-container {\n",
       "      display:flex;\n",
       "      gap: 12px;\n",
       "    }\n",
       "\n",
       "    .colab-df-convert {\n",
       "      background-color: #E8F0FE;\n",
       "      border: none;\n",
       "      border-radius: 50%;\n",
       "      cursor: pointer;\n",
       "      display: none;\n",
       "      fill: #1967D2;\n",
       "      height: 32px;\n",
       "      padding: 0 0 0 0;\n",
       "      width: 32px;\n",
       "    }\n",
       "\n",
       "    .colab-df-convert:hover {\n",
       "      background-color: #E2EBFA;\n",
       "      box-shadow: 0px 1px 2px rgba(60, 64, 67, 0.3), 0px 1px 3px 1px rgba(60, 64, 67, 0.15);\n",
       "      fill: #174EA6;\n",
       "    }\n",
       "\n",
       "    .colab-df-buttons div {\n",
       "      margin-bottom: 4px;\n",
       "    }\n",
       "\n",
       "    [theme=dark] .colab-df-convert {\n",
       "      background-color: #3B4455;\n",
       "      fill: #D2E3FC;\n",
       "    }\n",
       "\n",
       "    [theme=dark] .colab-df-convert:hover {\n",
       "      background-color: #434B5C;\n",
       "      box-shadow: 0px 1px 3px 1px rgba(0, 0, 0, 0.15);\n",
       "      filter: drop-shadow(0px 1px 2px rgba(0, 0, 0, 0.3));\n",
       "      fill: #FFFFFF;\n",
       "    }\n",
       "  </style>\n",
       "\n",
       "    <script>\n",
       "      const buttonEl =\n",
       "        document.querySelector('#df-19e0a419-399d-4731-947b-e43d310c1fd1 button.colab-df-convert');\n",
       "      buttonEl.style.display =\n",
       "        google.colab.kernel.accessAllowed ? 'block' : 'none';\n",
       "\n",
       "      async function convertToInteractive(key) {\n",
       "        const element = document.querySelector('#df-19e0a419-399d-4731-947b-e43d310c1fd1');\n",
       "        const dataTable =\n",
       "          await google.colab.kernel.invokeFunction('convertToInteractive',\n",
       "                                                    [key], {});\n",
       "        if (!dataTable) return;\n",
       "\n",
       "        const docLinkHtml = 'Like what you see? Visit the ' +\n",
       "          '<a target=\"_blank\" href=https://colab.research.google.com/notebooks/data_table.ipynb>data table notebook</a>'\n",
       "          + ' to learn more about interactive tables.';\n",
       "        element.innerHTML = '';\n",
       "        dataTable['output_type'] = 'display_data';\n",
       "        await google.colab.output.renderOutput(dataTable, element);\n",
       "        const docLink = document.createElement('div');\n",
       "        docLink.innerHTML = docLinkHtml;\n",
       "        element.appendChild(docLink);\n",
       "      }\n",
       "    </script>\n",
       "  </div>\n",
       "\n",
       "\n",
       "<div id=\"df-73b1ffa4-df7f-4e44-bafe-16c9d5ca019a\">\n",
       "  <button class=\"colab-df-quickchart\" onclick=\"quickchart('df-73b1ffa4-df7f-4e44-bafe-16c9d5ca019a')\"\n",
       "            title=\"Suggest charts\"\n",
       "            style=\"display:none;\">\n",
       "\n",
       "<svg xmlns=\"http://www.w3.org/2000/svg\" height=\"24px\"viewBox=\"0 0 24 24\"\n",
       "     width=\"24px\">\n",
       "    <g>\n",
       "        <path d=\"M19 3H5c-1.1 0-2 .9-2 2v14c0 1.1.9 2 2 2h14c1.1 0 2-.9 2-2V5c0-1.1-.9-2-2-2zM9 17H7v-7h2v7zm4 0h-2V7h2v10zm4 0h-2v-4h2v4z\"/>\n",
       "    </g>\n",
       "</svg>\n",
       "  </button>\n",
       "\n",
       "<style>\n",
       "  .colab-df-quickchart {\n",
       "      --bg-color: #E8F0FE;\n",
       "      --fill-color: #1967D2;\n",
       "      --hover-bg-color: #E2EBFA;\n",
       "      --hover-fill-color: #174EA6;\n",
       "      --disabled-fill-color: #AAA;\n",
       "      --disabled-bg-color: #DDD;\n",
       "  }\n",
       "\n",
       "  [theme=dark] .colab-df-quickchart {\n",
       "      --bg-color: #3B4455;\n",
       "      --fill-color: #D2E3FC;\n",
       "      --hover-bg-color: #434B5C;\n",
       "      --hover-fill-color: #FFFFFF;\n",
       "      --disabled-bg-color: #3B4455;\n",
       "      --disabled-fill-color: #666;\n",
       "  }\n",
       "\n",
       "  .colab-df-quickchart {\n",
       "    background-color: var(--bg-color);\n",
       "    border: none;\n",
       "    border-radius: 50%;\n",
       "    cursor: pointer;\n",
       "    display: none;\n",
       "    fill: var(--fill-color);\n",
       "    height: 32px;\n",
       "    padding: 0;\n",
       "    width: 32px;\n",
       "  }\n",
       "\n",
       "  .colab-df-quickchart:hover {\n",
       "    background-color: var(--hover-bg-color);\n",
       "    box-shadow: 0 1px 2px rgba(60, 64, 67, 0.3), 0 1px 3px 1px rgba(60, 64, 67, 0.15);\n",
       "    fill: var(--button-hover-fill-color);\n",
       "  }\n",
       "\n",
       "  .colab-df-quickchart-complete:disabled,\n",
       "  .colab-df-quickchart-complete:disabled:hover {\n",
       "    background-color: var(--disabled-bg-color);\n",
       "    fill: var(--disabled-fill-color);\n",
       "    box-shadow: none;\n",
       "  }\n",
       "\n",
       "  .colab-df-spinner {\n",
       "    border: 2px solid var(--fill-color);\n",
       "    border-color: transparent;\n",
       "    border-bottom-color: var(--fill-color);\n",
       "    animation:\n",
       "      spin 1s steps(1) infinite;\n",
       "  }\n",
       "\n",
       "  @keyframes spin {\n",
       "    0% {\n",
       "      border-color: transparent;\n",
       "      border-bottom-color: var(--fill-color);\n",
       "      border-left-color: var(--fill-color);\n",
       "    }\n",
       "    20% {\n",
       "      border-color: transparent;\n",
       "      border-left-color: var(--fill-color);\n",
       "      border-top-color: var(--fill-color);\n",
       "    }\n",
       "    30% {\n",
       "      border-color: transparent;\n",
       "      border-left-color: var(--fill-color);\n",
       "      border-top-color: var(--fill-color);\n",
       "      border-right-color: var(--fill-color);\n",
       "    }\n",
       "    40% {\n",
       "      border-color: transparent;\n",
       "      border-right-color: var(--fill-color);\n",
       "      border-top-color: var(--fill-color);\n",
       "    }\n",
       "    60% {\n",
       "      border-color: transparent;\n",
       "      border-right-color: var(--fill-color);\n",
       "    }\n",
       "    80% {\n",
       "      border-color: transparent;\n",
       "      border-right-color: var(--fill-color);\n",
       "      border-bottom-color: var(--fill-color);\n",
       "    }\n",
       "    90% {\n",
       "      border-color: transparent;\n",
       "      border-bottom-color: var(--fill-color);\n",
       "    }\n",
       "  }\n",
       "</style>\n",
       "\n",
       "  <script>\n",
       "    async function quickchart(key) {\n",
       "      const quickchartButtonEl =\n",
       "        document.querySelector('#' + key + ' button');\n",
       "      quickchartButtonEl.disabled = true;  // To prevent multiple clicks.\n",
       "      quickchartButtonEl.classList.add('colab-df-spinner');\n",
       "      try {\n",
       "        const charts = await google.colab.kernel.invokeFunction(\n",
       "            'suggestCharts', [key], {});\n",
       "      } catch (error) {\n",
       "        console.error('Error during call to suggestCharts:', error);\n",
       "      }\n",
       "      quickchartButtonEl.classList.remove('colab-df-spinner');\n",
       "      quickchartButtonEl.classList.add('colab-df-quickchart-complete');\n",
       "    }\n",
       "    (() => {\n",
       "      let quickchartButtonEl =\n",
       "        document.querySelector('#df-73b1ffa4-df7f-4e44-bafe-16c9d5ca019a button');\n",
       "      quickchartButtonEl.style.display =\n",
       "        google.colab.kernel.accessAllowed ? 'block' : 'none';\n",
       "    })();\n",
       "  </script>\n",
       "</div>\n",
       "\n",
       "    </div>\n",
       "  </div>\n"
      ],
      "text/plain": [
       "                                               title  \\\n",
       "0  La resolución del Senasa que tiene en vilo a l...   \n",
       "1  Apagón masivo: esta es la casa que dejó sin lu...   \n",
       "2  Desembarco: finalmente Juan Valdez llega a la ...   \n",
       "3  ¿Quién inventó los precios? ¿Por qué tienen qu...   \n",
       "4  Qué riesgo esconde el boom de las inversiones ...   \n",
       "\n",
       "                                         description  \\\n",
       "0  Una disposición del organismo sanitario dio pl...   \n",
       "1  La antena de internet de una casa produjo un c...   \n",
       "2  El jueves la cadena colombiana inaugurará su p...   \n",
       "3  Cuando rige la competencia, y el Estado ni sub...   \n",
       "4  Durante a pandemia se incrementó el número de ...   \n",
       "\n",
       "                  published date  \\\n",
       "0  Thu, 13 Jan 2022 08:00:00 GMT   \n",
       "1  Wed, 12 Jan 2022 08:00:00 GMT   \n",
       "2  Tue, 11 Jan 2022 08:00:00 GMT   \n",
       "3  Sun, 09 Jan 2022 08:00:00 GMT   \n",
       "4  Fri, 14 Jan 2022 08:00:00 GMT   \n",
       "\n",
       "                                                 url  \\\n",
       "0  https://www.lanacion.com.ar/economia/campo/gan...   \n",
       "1  https://www.lanacion.com.ar/economia/apagon-ma...   \n",
       "2  https://www.lanacion.com.ar/economia/negocios/...   \n",
       "3  https://www.lanacion.com.ar/economia/quien-inv...   \n",
       "4  https://www.lanacion.com.ar/economia/que-riesg...   \n",
       "\n",
       "                                           publisher  \\\n",
       "0  {'href': 'https://www.lanacion.com.ar', 'title...   \n",
       "1  {'href': 'https://www.lanacion.com.ar', 'title...   \n",
       "2  {'href': 'https://www.lanacion.com.ar', 'title...   \n",
       "3  {'href': 'https://www.lanacion.com.ar', 'title...   \n",
       "4  {'href': 'https://www.lanacion.com.ar', 'title...   \n",
       "\n",
       "                                                text      site error  \n",
       "0  Al doble estándar de las plantas frigoríficas,...  lanacion   NaN  \n",
       "1  Sobre la avenida Eva Perón al 6900, en el part...  lanacion   NaN  \n",
       "2  “¡Finalmente estamos acá!”. Así lo proclama el...  lanacion   NaN  \n",
       "3  En un programa de televisión, a un niño que fo...  lanacion   NaN  \n",
       "4  La aparición de apps y plataformas que permite...  lanacion   NaN  "
      ]
     },
     "execution_count": 58,
     "metadata": {},
     "output_type": "execute_result"
    }
   ],
   "source": [
    "import pandas as pd\n",
    "\n",
    "articles_df = pd.DataFrame(all_articles)\n",
    "articles_df.to_csv('articulos.csv', index=False)\n",
    "\n",
    "articles_df.head()"
   ]
  }
 ],
 "metadata": {
  "colab": {
   "provenance": []
  },
  "hide_input": false,
  "kernelspec": {
   "display_name": "Python 3 (ipykernel)",
   "language": "python",
   "name": "python3"
  },
  "language_info": {
   "codemirror_mode": {
    "name": "ipython",
    "version": 3
   },
   "file_extension": ".py",
   "mimetype": "text/x-python",
   "name": "python",
   "nbconvert_exporter": "python",
   "pygments_lexer": "ipython3",
   "version": "3.10.12"
  }
 },
 "nbformat": 4,
 "nbformat_minor": 1
}
